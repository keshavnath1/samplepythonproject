{
 "cells": [
  {
   "cell_type": "code",
   "execution_count": 12,
   "outputs": [],
   "source": [
    "import torch\n",
    "from torch.utils.data import Dataset, DataLoader\n",
    "import pandas as pd\n",
    "\n",
    "# Define the Dataset class\n",
    "class CSVDataset(Dataset):\n",
    "    def __init__(self, filepath):\n",
    "        self.data = pd.read_csv(filepath)\n",
    "        self.X = torch.from_numpy(self.data.iloc[:, :-1].values).float()\n",
    "        self.y = torch.from_numpy(self.data.iloc[:, -1].values).unsqueeze(1).float()\n",
    "\n",
    "    def __len__(self):\n",
    "        return len(self.data)\n",
    "\n",
    "    def __getitem__(self, idx):\n",
    "        return self.X[idx], self.y[idx]\n",
    "\n",
    "# Define the neural network class\n",
    "class Net(torch.nn.Module):\n",
    "    def __init__(self):\n",
    "        super(Net, self).__init__()\n",
    "        # Assume input features are 10 as per the synthetic data\n",
    "        self.fc1 = torch.nn.Linear(10, 8)\n",
    "        self.fc2 = torch.nn.Linear(8, 6)\n",
    "        self.fc3 = torch.nn.Linear(6, 4)\n",
    "        self.fc4 = torch.nn.Linear(4, 1)\n",
    "        self.relu = torch.nn.ReLU()\n",
    "\n",
    "    def forward(self, x):\n",
    "        x = self.relu(self.fc1(x))\n",
    "        x = self.relu(self.fc2(x))\n",
    "        x = self.relu(self.fc3(x))\n",
    "        x = self.fc4(x)\n",
    "        return x\n",
    "\n",
    "# Load the dataset\n",
    "# dataset = CSVDataset(filepath='synthetic_data.csv')\n",
    "# \n",
    "# # Create a DataLoader\n",
    "# dataloader = DataLoader(dataset, batch_size=32, shuffle=True)\n",
    "# \n",
    "# # Instantiate the model\n",
    "# model = Net()\n",
    "# \n",
    "# # Define loss function and optimizer\n",
    "# criterion = torch.nn.BCEWithLogitsLoss()\n",
    "# optimizer = torch.optim.Adam(model.parameters(), lr=0.001)\n",
    "# \n",
    "# # Training loop\n",
    "# for epoch in range(5):  # let's say we run for 5 epochs\n",
    "#     running_loss = 0.0\n",
    "#     for i, data in enumerate(dataloader, 0):\n",
    "#         inputs, labels = data\n",
    "#         optimizer.zero_grad()\n",
    "#         outputs = model(inputs)\n",
    "#         loss = criterion(outputs, labels)\n",
    "#         loss.backward()\n",
    "#         optimizer.step()\n",
    "#         running_loss += loss.item()\n",
    "#     print(f'Epoch {epoch+1}: loss={running_loss/len(dataloader)}')\n",
    "\n",
    "# Save the trained model\n",
    "#torch.save(model.state_dict(), '/model.pth')"
   ],
   "metadata": {
    "collapsed": false,
    "ExecuteTime": {
     "end_time": "2023-11-20T19:20:01.566483200Z",
     "start_time": "2023-11-20T19:20:01.553506500Z"
    }
   },
   "id": "1f187055a62c34ee"
  },
  {
   "cell_type": "code",
   "execution_count": 13,
   "outputs": [],
   "source": [
    "def train(dataloader, model, optimizer, criterion, epochs):\n",
    "    for epoch in range(5):  # let's say we run for 5 epochs\n",
    "        running_loss = 0.0\n",
    "        for i, data in enumerate(dataloader, 0):\n",
    "            inputs, labels = data\n",
    "            optimizer.zero_grad()\n",
    "            outputs = model(inputs)\n",
    "            loss = criterion(outputs, labels)\n",
    "            loss.backward()\n",
    "            optimizer.step()\n",
    "            running_loss += loss.item()\n",
    "        print(f'Epoch {epoch+1}: loss={running_loss/len(dataloader)}')"
   ],
   "metadata": {
    "collapsed": false,
    "ExecuteTime": {
     "end_time": "2023-11-20T19:20:33.542778200Z",
     "start_time": "2023-11-20T19:20:33.526667500Z"
    }
   },
   "id": "d828b65ff51e04ec"
  },
  {
   "cell_type": "code",
   "execution_count": 14,
   "outputs": [],
   "source": [
    "def test_train():\n",
    "    # Load the dataset\n",
    "    dataset = CSVDataset(filepath='synthetic_data.csv')\n",
    "    \n",
    "    # Create a DataLoader\n",
    "    dataloader = DataLoader(dataset, batch_size=32, shuffle=True)\n",
    "    \n",
    "    # Instantiate the model\n",
    "    model = Net()\n",
    "    \n",
    "    # Define loss function and optimizer\n",
    "    criterion = torch.nn.BCEWithLogitsLoss()\n",
    "    optimizer = torch.optim.Adam(model.parameters(), lr=0.001)\n",
    "    train(dataloader, model, optimizer, criterion, epochs=5)"
   ],
   "metadata": {
    "collapsed": false,
    "ExecuteTime": {
     "end_time": "2023-11-20T19:20:37.528429200Z",
     "start_time": "2023-11-20T19:20:37.518557700Z"
    }
   },
   "id": "7247f7280c42b05f"
  },
  {
   "cell_type": "code",
   "execution_count": 15,
   "outputs": [
    {
     "name": "stdout",
     "output_type": "stream",
     "text": [
      "Epoch 1: loss=0.6968666482716799\n",
      "Epoch 2: loss=0.6941703725606203\n",
      "Epoch 3: loss=0.6932755429297686\n",
      "Epoch 4: loss=0.6924158092588186\n",
      "Epoch 5: loss=0.6919758729636669\n"
     ]
    }
   ],
   "source": [
    "test_train()"
   ],
   "metadata": {
    "collapsed": false,
    "ExecuteTime": {
     "end_time": "2023-11-20T19:20:38.392504700Z",
     "start_time": "2023-11-20T19:20:38.263166100Z"
    }
   },
   "id": "16d4043a494855c5"
  },
  {
   "cell_type": "code",
   "execution_count": null,
   "outputs": [],
   "source": [
    "import nbformat\n",
    "from nbconvert.preprocessors import ExecutePreprocessor\n",
    "from nbconvert.preprocessors import CellExecutionError\n",
    "\n",
    "import re\n",
    "\n",
    "def test_notebook():\n",
    "    notebook_filename = 'test.ipynb'\n",
    "\n",
    "    # Load the notebook\n",
    "    with open(notebook_filename) as f:\n",
    "        nb = nbformat.read(f, as_version=4)\n",
    "\n",
    "    # Execute the notebook\n",
    "    ep = ExecutePreprocessor(timeout=600, kernel_name='python3')\n",
    "\n",
    "    try:\n",
    "        # Preprocess notebook, execute all cells\n",
    "        ep.preprocess(nb, {'metadata': {'path': './'}})\n",
    "    except CellExecutionError as e:\n",
    "        # If there is any error (including assertion failure) in any cell, raise it\n",
    "        raise AssertionError(f\"Error executing the notebook '{notebook_filename}':\\n{e}\")\n",
    "\n",
    "    # Optionally, you can check outputs of specific cells if needed\n",
    "    # for example, to check an output of cell 5 you could use:\n",
    "    print(nb.cells[3].outputs)\n",
    "    cell_output = nb.cells[3].outputs[0].text\n",
    "    assert re.search('Epoch 1:', cell_output)\n",
    "\n",
    "    # If no exceptions were raised, it means all assertions in the notebook passed\n",
    "\n",
    "\n",
    "if __name__ == \"__main__\":\n",
    "    test_notebook()"
   ],
   "metadata": {
    "collapsed": false
   },
   "id": "3d01516d1054ef5a"
  }
 ],
 "metadata": {
  "kernelspec": {
   "display_name": "Python 3",
   "language": "python",
   "name": "python3"
  },
  "language_info": {
   "codemirror_mode": {
    "name": "ipython",
    "version": 2
   },
   "file_extension": ".py",
   "mimetype": "text/x-python",
   "name": "python",
   "nbconvert_exporter": "python",
   "pygments_lexer": "ipython2",
   "version": "2.7.6"
  }
 },
 "nbformat": 4,
 "nbformat_minor": 5
}
