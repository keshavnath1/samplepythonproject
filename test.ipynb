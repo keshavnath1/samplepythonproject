{
 "cells": [
  {
   "cell_type": "code",
   "execution_count": 2,
   "id": "initial_id",
   "metadata": {
    "collapsed": true,
    "ExecuteTime": {
     "end_time": "2023-11-20T18:09:27.536551800Z",
     "start_time": "2023-11-20T18:09:13.061958900Z"
    }
   },
   "outputs": [
    {
     "name": "stdout",
     "output_type": "stream",
     "text": [
      "Retrieving notices: ...working... done\n",
      "Collecting package metadata (current_repodata.json): ...working... done\n",
      "Solving environment: ...working... done\n",
      "\n",
      "## Package Plan ##\n",
      "\n",
      "  environment location: C:\\Users\\kesha\\anaconda3\\envs\\temporal_model_env\n",
      "\n",
      "  added / updated specs:\n",
      "    - pandas\n",
      "\n",
      "\n",
      "The following packages will be downloaded:\n",
      "\n",
      "    package                    |            build\n",
      "    ---------------------------|-----------------\n",
      "    bottleneck-1.3.5           |   py38h080aedc_0         106 KB\n",
      "    numexpr-2.8.4              |   py38h7b80656_1         128 KB\n",
      "    pandas-2.0.3               |   py38h4ed8f06_0         9.8 MB\n",
      "    python-tzdata-2023.3       |     pyhd3eb1b0_0         140 KB\n",
      "    ------------------------------------------------------------\n",
      "                                           Total:        10.2 MB\n",
      "\n",
      "The following NEW packages will be INSTALLED:\n",
      "\n",
      "  bottleneck         pkgs/main/win-64::bottleneck-1.3.5-py38h080aedc_0 \n",
      "  numexpr            pkgs/main/win-64::numexpr-2.8.4-py38h7b80656_1 \n",
      "  pandas             pkgs/main/win-64::pandas-2.0.3-py38h4ed8f06_0 \n",
      "  python-tzdata      pkgs/main/noarch::python-tzdata-2023.3-pyhd3eb1b0_0 \n",
      "\n",
      "\n",
      "\n",
      "Downloading and Extracting Packages\n",
      "\n",
      "python-tzdata-2023.3 | 140 KB    |            |   0% \n",
      "\n",
      "bottleneck-1.3.5     | 106 KB    |            |   0% \u001B[A\n",
      "\n",
      "\n",
      "pandas-2.0.3         | 9.8 MB    |            |   0% \u001B[A\u001B[A\n",
      "\n",
      "\n",
      "\n",
      "numexpr-2.8.4        | 128 KB    |            |   0% \u001B[A\u001B[A\u001B[A\n",
      "\n",
      "bottleneck-1.3.5     | 106 KB    | #5         |  15% \u001B[A\n",
      "\n",
      "\n",
      "\n",
      "numexpr-2.8.4        | 128 KB    | #2         |  13% \u001B[A\u001B[A\u001B[A\n",
      "\n",
      "\n",
      "pandas-2.0.3         | 9.8 MB    |            |   0% \u001B[A\u001B[A\n",
      "python-tzdata-2023.3 | 140 KB    | #1         |  11% \n",
      "\n",
      "\n",
      "\n",
      "numexpr-2.8.4        | 128 KB    | ########## | 100% \u001B[A\u001B[A\u001B[A\n",
      "\n",
      "\n",
      "pandas-2.0.3         | 9.8 MB    | ##4        |  25% \u001B[A\u001B[A\n",
      "\n",
      "\n",
      "\n",
      "numexpr-2.8.4        | 128 KB    | ########## | 100% \u001B[A\u001B[A\u001B[A\n",
      "\n",
      "bottleneck-1.3.5     | 106 KB    | ########## | 100% \u001B[A\n",
      "\n",
      "bottleneck-1.3.5     | 106 KB    | ########## | 100% \u001B[A\n",
      "\n",
      "\n",
      "pandas-2.0.3         | 9.8 MB    | #######8   |  78% \u001B[A\u001B[A\n",
      "python-tzdata-2023.3 | 140 KB    | ########## | 100% \n",
      "python-tzdata-2023.3 | 140 KB    | ########## | 100% \n",
      "\n",
      "\n",
      "pandas-2.0.3         | 9.8 MB    | ########## | 100% \u001B[A\u001B[A\n",
      "                                                     \n",
      "\n",
      "\n",
      "                                                     \u001B[A\n",
      "\n",
      "\n",
      "                                                     \u001B[A\u001B[A\n",
      "\n",
      "\n",
      "\n",
      "                                                     \u001B[A\u001B[A\u001B[A\n",
      "\n",
      "Preparing transaction: ...working... done\n",
      "Verifying transaction: ...working... done\n",
      "Executing transaction: ...working... done\n",
      "\n",
      "Note: you may need to restart the kernel to use updated packages.\n"
     ]
    },
    {
     "name": "stderr",
     "output_type": "stream",
     "text": [
      "\n",
      "\n",
      "==> WARNING: A newer version of conda exists. <==\n",
      "  current version: 23.7.2\n",
      "  latest version: 23.10.0\n",
      "\n",
      "Please update conda by running\n",
      "\n",
      "    $ conda update -n base -c defaults conda\n",
      "\n",
      "Or to minimize the number of packages updated during conda update use\n",
      "\n",
      "     conda install conda=23.10.0\n",
      "\n",
      "\n"
     ]
    }
   ],
   "source": [
    "conda install pandas"
   ]
  },
  {
   "cell_type": "code",
   "execution_count": 11,
   "outputs": [
    {
     "name": "stdout",
     "output_type": "stream",
     "text": [
      "Epoch 1: loss=0.6927185263484716\n",
      "Epoch 2: loss=0.6920402497053146\n",
      "Epoch 3: loss=0.6921860687434673\n",
      "Epoch 4: loss=0.6920996755361557\n",
      "Epoch 5: loss=0.6923694536089897\n"
     ]
    }
   ],
   "source": [
    "import torch\n",
    "from torch.utils.data import Dataset, DataLoader\n",
    "import pandas as pd\n",
    "\n",
    "# Define the Dataset class\n",
    "class CSVDataset(Dataset):\n",
    "    def __init__(self, filepath):\n",
    "        self.data = pd.read_csv(filepath)\n",
    "        self.X = torch.from_numpy(self.data.iloc[:, :-1].values).float()\n",
    "        self.y = torch.from_numpy(self.data.iloc[:, -1].values).unsqueeze(1).float()\n",
    "\n",
    "    def __len__(self):\n",
    "        return len(self.data)\n",
    "\n",
    "    def __getitem__(self, idx):\n",
    "        return self.X[idx], self.y[idx]\n",
    "\n",
    "# Define the neural network class\n",
    "class Net(torch.nn.Module):\n",
    "    def __init__(self):\n",
    "        super(Net, self).__init__()\n",
    "        # Assume input features are 10 as per the synthetic data\n",
    "        self.fc1 = torch.nn.Linear(10, 8)\n",
    "        self.fc2 = torch.nn.Linear(8, 6)\n",
    "        self.fc3 = torch.nn.Linear(6, 4)\n",
    "        self.fc4 = torch.nn.Linear(4, 1)\n",
    "        self.relu = torch.nn.ReLU()\n",
    "\n",
    "    def forward(self, x):\n",
    "        x = self.relu(self.fc1(x))\n",
    "        x = self.relu(self.fc2(x))\n",
    "        x = self.relu(self.fc3(x))\n",
    "        x = self.fc4(x)\n",
    "        return x\n",
    "\n",
    "# Load the dataset\n",
    "dataset = CSVDataset(filepath='synthetic_data.csv')\n",
    "\n",
    "# Create a DataLoader\n",
    "dataloader = DataLoader(dataset, batch_size=32, shuffle=True)\n",
    "\n",
    "# Instantiate the model\n",
    "model = Net()\n",
    "\n",
    "# Define loss function and optimizer\n",
    "criterion = torch.nn.BCEWithLogitsLoss()\n",
    "optimizer = torch.optim.Adam(model.parameters(), lr=0.001)\n",
    "\n",
    "# Training loop\n",
    "for epoch in range(5):  # let's say we run for 5 epochs\n",
    "    running_loss = 0.0\n",
    "    for i, data in enumerate(dataloader, 0):\n",
    "        inputs, labels = data\n",
    "        optimizer.zero_grad()\n",
    "        outputs = model(inputs)\n",
    "        loss = criterion(outputs, labels)\n",
    "        loss.backward()\n",
    "        optimizer.step()\n",
    "        running_loss += loss.item()\n",
    "    print(f'Epoch {epoch+1}: loss={running_loss/len(dataloader)}')\n",
    "\n",
    "# Save the trained model\n",
    "#torch.save(model.state_dict(), '/model.pth')"
   ],
   "metadata": {
    "collapsed": false,
    "ExecuteTime": {
     "end_time": "2023-11-20T18:38:43.468846400Z",
     "start_time": "2023-11-20T18:38:43.264115300Z"
    }
   },
   "id": "1f187055a62c34ee"
  },
  {
   "cell_type": "code",
   "execution_count": 11,
   "outputs": [],
   "source": [],
   "metadata": {
    "collapsed": false,
    "ExecuteTime": {
     "end_time": "2023-11-20T18:38:43.547082500Z",
     "start_time": "2023-11-20T18:38:43.504846Z"
    }
   },
   "id": "d828b65ff51e04ec"
  },
  {
   "cell_type": "code",
   "execution_count": null,
   "outputs": [],
   "source": [],
   "metadata": {
    "collapsed": false
   },
   "id": "7247f7280c42b05f"
  }
 ],
 "metadata": {
  "kernelspec": {
   "display_name": "Python 3",
   "language": "python",
   "name": "python3"
  },
  "language_info": {
   "codemirror_mode": {
    "name": "ipython",
    "version": 2
   },
   "file_extension": ".py",
   "mimetype": "text/x-python",
   "name": "python",
   "nbconvert_exporter": "python",
   "pygments_lexer": "ipython2",
   "version": "2.7.6"
  }
 },
 "nbformat": 4,
 "nbformat_minor": 5
}
